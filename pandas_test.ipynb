{
 "cells": [
  {
   "cell_type": "code",
   "execution_count": 19,
   "metadata": {},
   "outputs": [],
   "source": [
    "import pandas as pd\n",
    "\n",
    "f = pd.read_csv('88.txt')\n"
   ]
  },
  {
   "cell_type": "code",
   "execution_count": 23,
   "metadata": {},
   "outputs": [
    {
     "name": "stdout",
     "output_type": "stream",
     "text": [
      "    rank    country  area_sqkm  population_2013     density\n",
      "6      7      India    3287590       1252139596  380.868538\n",
      "34    35   Pakistan     803940        182142594  226.562423\n",
      "31    32    Nigeria     923768        173615345  187.942584\n",
      "3      4      China    9596960       1385566537  144.375567\n",
      "14    15  Indonesia    1919440        249865631  130.176318\n"
     ]
    }
   ],
   "source": [
    "f[\"density\"] = f[\"population_2013\"] / f[\"area_sqkm\"]\n",
    "f = f.sort_values(by='density', ascending=False)\n",
    "\n",
    "print(f[:5])"
   ]
  },
  {
   "cell_type": "code",
   "execution_count": null,
   "metadata": {
    "collapsed": true
   },
   "outputs": [],
   "source": []
  }
 ],
 "metadata": {
  "kernelspec": {
   "display_name": "Python 3",
   "language": "python",
   "name": "python3"
  },
  "language_info": {
   "codemirror_mode": {
    "name": "ipython",
    "version": 3
   },
   "file_extension": ".py",
   "mimetype": "text/x-python",
   "name": "python",
   "nbconvert_exporter": "python",
   "pygments_lexer": "ipython3",
   "version": "3.6.2"
  }
 },
 "nbformat": 4,
 "nbformat_minor": 2
}
