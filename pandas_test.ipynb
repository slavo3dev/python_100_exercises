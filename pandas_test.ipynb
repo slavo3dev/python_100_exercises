{
 "cells": [
  {
   "cell_type": "code",
   "execution_count": 19,
   "metadata": {},
   "outputs": [],
   "source": [
    "import pandas as pd\n",
    "\n",
    "f = pd.read_csv('88.txt')\n"
   ]
  },
  {
   "cell_type": "code",
   "execution_count": 21,
   "metadata": {},
   "outputs": [
    {
     "name": "stdout",
     "output_type": "stream",
     "text": [
      "    rank                   country  area_sqkm  population_2013     density\n",
      "11    12                 Greenland    2166086            56987    0.026309\n",
      "18    19                  Mongolia    1564116          2839073    1.815129\n",
      "33    34                   Namibia     825418          2303315    2.790483\n",
      "5      6                 Australia    7686850         23342553    3.036686\n",
      "46    47                  Botswana     600370          2021144    3.366497\n",
      "1      2                    Canada    9984670         35181704    3.523572\n",
      "16    17                     Libya    1759540          6201521    3.524513\n",
      "28    29                Mauritania    1030700          3889880    3.774018\n",
      "8      9                Kazakhstan    2717300         16440586    6.050339\n",
      "44    45  Central African Republic     622984          4616417    7.410169\n",
      "0      1                    Russia   17075200        142833689    8.364979\n",
      "27    28                   Bolivia    1098580         10671200    9.713630\n",
      "20    21                      Chad    1284000         12825314    9.988562\n",
      "23    24                      Mali    1240000         15301650   12.340040\n",
      "12    13              Saudi Arabia    2149690         28828870   13.410710\n",
      "21    22                     Niger    1267000         17831270   14.073615\n",
      "7      8                 Argentina    2766890         41446246   14.979362\n",
      "43    44                   Somalia     637657         10495583   16.459606\n",
      "9     10                   Algeria    2381740         39208194   16.461996\n",
      "22    23                    Angola    1246700         21471618   17.222762\n",
      "41    42               South Sudan     644329         11296173   17.531685\n",
      "38    39                    Zambia     752614         14538640   19.317525\n",
      "15    16                     Sudan    1844729         37964306   20.579882\n",
      "37    38                     Chile     756950         17619708   23.277242\n",
      "4      5                    Brazil    8511965        200361925   23.538857\n",
      "19    20                      Peru    1285220         30375603   23.634555\n",
      "10    11      Congo Dem Rep of the    2345410         67513677   28.785448\n",
      "35    36                Mozambique     801590         25833752   32.228137\n",
      "2      3  United States of America    9826630        320050716   32.569733\n",
      "32    33                 Venezuela     912050         30405207   33.337215\n",
      "47    48                Madagascar     587040         22924851   39.051600\n",
      "25    26                  Colombia    1138910         48321405   42.427764\n",
      "24    25              South Africa    1219912         52776130   43.262244\n",
      "49    50                     Yemen     527970         24407381   46.228727\n",
      "17    18                      Iran    1648000         77447168   46.994641\n",
      "40    41               Afghanistan     647500         30551674   47.184053\n",
      "30    31                  Tanzania     945087         49253126   52.114912\n",
      "13    14                    Mexico    1972550        122332399   62.017388\n",
      "45    46                   Ukraine     603700         45238805   74.935904\n",
      "48    49                     Kenya     582650         44353691   76.124073\n",
      "39    40           Myanmar (Burma)     678500         53259018   78.495237\n",
      "29    30                     Egypt    1001450         82056378   81.937569\n",
      "26    27                  Ethiopia    1127127         94100756   83.487270\n",
      "36    37                    Turkey     780580         74932641   95.996107\n",
      "42    43                    France     643427         64291280   99.920084\n",
      "14    15                 Indonesia    1919440        249865631  130.176318\n",
      "3      4                     China    9596960       1385566537  144.375567\n",
      "31    32                   Nigeria     923768        173615345  187.942584\n",
      "34    35                  Pakistan     803940        182142594  226.562423\n",
      "6      7                     India    3287590       1252139596  380.868538\n"
     ]
    }
   ],
   "source": [
    "f[\"density\"] = f[\"population_2013\"] / f[\"area_sqkm\"]\n",
    "f = f.sort_values(by='density', \n",
    "print(f)"
   ]
  },
  {
   "cell_type": "code",
   "execution_count": null,
   "metadata": {
    "collapsed": true
   },
   "outputs": [],
   "source": []
  }
 ],
 "metadata": {
  "kernelspec": {
   "display_name": "Python 3",
   "language": "python",
   "name": "python3"
  },
  "language_info": {
   "codemirror_mode": {
    "name": "ipython",
    "version": 3
   },
   "file_extension": ".py",
   "mimetype": "text/x-python",
   "name": "python",
   "nbconvert_exporter": "python",
   "pygments_lexer": "ipython3",
   "version": "3.6.2"
  }
 },
 "nbformat": 4,
 "nbformat_minor": 2
}
